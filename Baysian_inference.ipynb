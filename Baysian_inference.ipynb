{
 "cells": [
  {
   "cell_type": "code",
   "execution_count": 3,
   "id": "88c47320-bf70-4358-8a63-3f842f5f00ef",
   "metadata": {},
   "outputs": [
    {
     "name": "stdout",
     "output_type": "stream",
     "text": [
      "Defaulting to user installation because normal site-packages is not writeable\n",
      "Collecting bambi\n",
      "  Downloading bambi-0.15.0-py3-none-any.whl.metadata (8.8 kB)\n",
      "Collecting arviz>=0.12.0 (from bambi)\n",
      "  Downloading arviz-0.21.0-py3-none-any.whl.metadata (8.8 kB)\n",
      "Collecting formulae>=0.5.3 (from bambi)\n",
      "  Downloading formulae-0.5.4-py3-none-any.whl.metadata (4.5 kB)\n",
      "Collecting graphviz (from bambi)\n",
      "  Downloading graphviz-0.20.3-py3-none-any.whl.metadata (12 kB)\n",
      "Requirement already satisfied: pandas>=1.0.0 in c:\\programdata\\anaconda3\\lib\\site-packages (from bambi) (2.2.2)\n",
      "Collecting pymc>=5.18.0 (from bambi)\n",
      "  Downloading pymc-5.22.0-py3-none-any.whl.metadata (16 kB)\n",
      "Requirement already satisfied: setuptools>=60.0.0 in c:\\programdata\\anaconda3\\lib\\site-packages (from arviz>=0.12.0->bambi) (75.1.0)\n",
      "Requirement already satisfied: matplotlib>=3.5 in c:\\programdata\\anaconda3\\lib\\site-packages (from arviz>=0.12.0->bambi) (3.9.2)\n",
      "Requirement already satisfied: numpy>=1.23.0 in c:\\programdata\\anaconda3\\lib\\site-packages (from arviz>=0.12.0->bambi) (1.26.4)\n",
      "Requirement already satisfied: scipy>=1.9.0 in c:\\programdata\\anaconda3\\lib\\site-packages (from arviz>=0.12.0->bambi) (1.13.1)\n",
      "Requirement already satisfied: packaging in c:\\programdata\\anaconda3\\lib\\site-packages (from arviz>=0.12.0->bambi) (24.1)\n",
      "Requirement already satisfied: xarray>=2022.6.0 in c:\\programdata\\anaconda3\\lib\\site-packages (from arviz>=0.12.0->bambi) (2023.6.0)\n",
      "Collecting h5netcdf>=1.0.2 (from arviz>=0.12.0->bambi)\n",
      "  Downloading h5netcdf-1.6.1-py3-none-any.whl.metadata (13 kB)\n",
      "Requirement already satisfied: typing-extensions>=4.1.0 in c:\\programdata\\anaconda3\\lib\\site-packages (from arviz>=0.12.0->bambi) (4.11.0)\n",
      "Collecting xarray-einstats>=0.3 (from arviz>=0.12.0->bambi)\n",
      "  Downloading xarray_einstats-0.8.0-py3-none-any.whl.metadata (5.8 kB)\n",
      "Requirement already satisfied: python-dateutil>=2.8.2 in c:\\programdata\\anaconda3\\lib\\site-packages (from pandas>=1.0.0->bambi) (2.9.0.post0)\n",
      "Requirement already satisfied: pytz>=2020.1 in c:\\programdata\\anaconda3\\lib\\site-packages (from pandas>=1.0.0->bambi) (2024.1)\n",
      "Requirement already satisfied: tzdata>=2022.7 in c:\\programdata\\anaconda3\\lib\\site-packages (from pandas>=1.0.0->bambi) (2023.3)\n",
      "Requirement already satisfied: cachetools>=4.2.1 in c:\\programdata\\anaconda3\\lib\\site-packages (from pymc>=5.18.0->bambi) (5.3.3)\n",
      "Requirement already satisfied: cloudpickle in c:\\programdata\\anaconda3\\lib\\site-packages (from pymc>=5.18.0->bambi) (3.0.0)\n",
      "Collecting pytensor<2.31,>=2.30.2 (from pymc>=5.18.0->bambi)\n",
      "  Downloading pytensor-2.30.3-cp312-cp312-win_amd64.whl.metadata (10 kB)\n",
      "Requirement already satisfied: rich>=13.7.1 in c:\\programdata\\anaconda3\\lib\\site-packages (from pymc>=5.18.0->bambi) (13.7.1)\n",
      "Requirement already satisfied: threadpoolctl<4.0.0,>=3.1.0 in c:\\programdata\\anaconda3\\lib\\site-packages (from pymc>=5.18.0->bambi) (3.5.0)\n",
      "Requirement already satisfied: h5py in c:\\programdata\\anaconda3\\lib\\site-packages (from h5netcdf>=1.0.2->arviz>=0.12.0->bambi) (3.11.0)\n",
      "Requirement already satisfied: contourpy>=1.0.1 in c:\\programdata\\anaconda3\\lib\\site-packages (from matplotlib>=3.5->arviz>=0.12.0->bambi) (1.2.0)\n",
      "Requirement already satisfied: cycler>=0.10 in c:\\programdata\\anaconda3\\lib\\site-packages (from matplotlib>=3.5->arviz>=0.12.0->bambi) (0.11.0)\n",
      "Requirement already satisfied: fonttools>=4.22.0 in c:\\programdata\\anaconda3\\lib\\site-packages (from matplotlib>=3.5->arviz>=0.12.0->bambi) (4.51.0)\n",
      "Requirement already satisfied: kiwisolver>=1.3.1 in c:\\programdata\\anaconda3\\lib\\site-packages (from matplotlib>=3.5->arviz>=0.12.0->bambi) (1.4.4)\n",
      "Requirement already satisfied: pillow>=8 in c:\\programdata\\anaconda3\\lib\\site-packages (from matplotlib>=3.5->arviz>=0.12.0->bambi) (10.4.0)\n",
      "Requirement already satisfied: pyparsing>=2.3.1 in c:\\programdata\\anaconda3\\lib\\site-packages (from matplotlib>=3.5->arviz>=0.12.0->bambi) (3.1.2)\n",
      "Collecting filelock>=3.15 (from pytensor<2.31,>=2.30.2->pymc>=5.18.0->bambi)\n",
      "  Using cached filelock-3.18.0-py3-none-any.whl.metadata (2.9 kB)\n",
      "Collecting etuples (from pytensor<2.31,>=2.30.2->pymc>=5.18.0->bambi)\n",
      "  Downloading etuples-0.3.9.tar.gz (30 kB)\n",
      "  Preparing metadata (setup.py): started\n",
      "  Preparing metadata (setup.py): finished with status 'done'\n",
      "Collecting logical-unification (from pytensor<2.31,>=2.30.2->pymc>=5.18.0->bambi)\n",
      "  Downloading logical-unification-0.4.6.tar.gz (31 kB)\n",
      "  Preparing metadata (setup.py): started\n",
      "  Preparing metadata (setup.py): finished with status 'done'\n",
      "Collecting miniKanren (from pytensor<2.31,>=2.30.2->pymc>=5.18.0->bambi)\n",
      "  Downloading miniKanren-1.0.3.tar.gz (41 kB)\n",
      "  Preparing metadata (setup.py): started\n",
      "  Preparing metadata (setup.py): finished with status 'done'\n",
      "Collecting cons (from pytensor<2.31,>=2.30.2->pymc>=5.18.0->bambi)\n",
      "  Downloading cons-0.4.6.tar.gz (26 kB)\n",
      "  Preparing metadata (setup.py): started\n",
      "  Preparing metadata (setup.py): finished with status 'done'\n",
      "Requirement already satisfied: six>=1.5 in c:\\programdata\\anaconda3\\lib\\site-packages (from python-dateutil>=2.8.2->pandas>=1.0.0->bambi) (1.16.0)\n",
      "Requirement already satisfied: markdown-it-py>=2.2.0 in c:\\programdata\\anaconda3\\lib\\site-packages (from rich>=13.7.1->pymc>=5.18.0->bambi) (2.2.0)\n",
      "Requirement already satisfied: pygments<3.0.0,>=2.13.0 in c:\\programdata\\anaconda3\\lib\\site-packages (from rich>=13.7.1->pymc>=5.18.0->bambi) (2.15.1)\n",
      "Requirement already satisfied: mdurl~=0.1 in c:\\programdata\\anaconda3\\lib\\site-packages (from markdown-it-py>=2.2.0->rich>=13.7.1->pymc>=5.18.0->bambi) (0.1.0)\n",
      "Requirement already satisfied: toolz in c:\\programdata\\anaconda3\\lib\\site-packages (from logical-unification->pytensor<2.31,>=2.30.2->pymc>=5.18.0->bambi) (0.12.0)\n",
      "Requirement already satisfied: multipledispatch in c:\\programdata\\anaconda3\\lib\\site-packages (from logical-unification->pytensor<2.31,>=2.30.2->pymc>=5.18.0->bambi) (0.6.0)\n",
      "Downloading bambi-0.15.0-py3-none-any.whl (109 kB)\n",
      "Downloading arviz-0.21.0-py3-none-any.whl (1.7 MB)\n",
      "   ---------------------------------------- 0.0/1.7 MB ? eta -:--:--\n",
      "   ---------------------------------------- 1.7/1.7 MB 29.9 MB/s eta 0:00:00\n",
      "Downloading formulae-0.5.4-py3-none-any.whl (53 kB)\n",
      "Downloading pymc-5.22.0-py3-none-any.whl (517 kB)\n",
      "Downloading graphviz-0.20.3-py3-none-any.whl (47 kB)\n",
      "Downloading h5netcdf-1.6.1-py3-none-any.whl (49 kB)\n",
      "Downloading pytensor-2.30.3-cp312-cp312-win_amd64.whl (1.5 MB)\n",
      "   ---------------------------------------- 0.0/1.5 MB ? eta -:--:--\n",
      "   ---------------------------------------- 1.5/1.5 MB 80.4 MB/s eta 0:00:00\n",
      "Downloading xarray_einstats-0.8.0-py3-none-any.whl (32 kB)\n",
      "Using cached filelock-3.18.0-py3-none-any.whl (16 kB)\n",
      "Building wheels for collected packages: cons, logical-unification, etuples, miniKanren\n",
      "  Building wheel for cons (setup.py): started\n",
      "  Building wheel for cons (setup.py): finished with status 'done'\n",
      "  Created wheel for cons: filename=cons-0.4.6-py3-none-any.whl size=9135 sha256=bd830cd30906e06d04b62b65729d01c6257c6b7cd45fdde9bb4a3ad4ea781671\n",
      "  Stored in directory: c:\\users\\hq8312\\appdata\\local\\pip\\cache\\wheels\\91\\0c\\f7\\7ba4ffbf0db6bf272bee59789131f6ec2d26966307a3054267\n",
      "  Building wheel for logical-unification (setup.py): started\n",
      "  Building wheel for logical-unification (setup.py): finished with status 'done'\n",
      "  Created wheel for logical-unification: filename=logical_unification-0.4.6-py3-none-any.whl size=13951 sha256=e74a20bf6390cb0c0c4fb83311dfef93faae2796ff550ab6ec696aeda68d4502\n",
      "  Stored in directory: c:\\users\\hq8312\\appdata\\local\\pip\\cache\\wheels\\4b\\07\\cf\\3fdaedafc40d7b1861c98be0df1bf3b2b3e87e03187fa95298\n",
      "  Building wheel for etuples (setup.py): started\n",
      "  Building wheel for etuples (setup.py): finished with status 'done'\n",
      "  Created wheel for etuples: filename=etuples-0.3.9-py3-none-any.whl size=12658 sha256=9ac51239bf147312909e99d10bb8f01d61c8edee9a6cd66bc4c3cef60ad08ff4\n",
      "  Stored in directory: c:\\users\\hq8312\\appdata\\local\\pip\\cache\\wheels\\9e\\ea\\42\\9562f37ce4e92913b74da9bcd504a749f0bf5d42d1d148ca76\n",
      "  Building wheel for miniKanren (setup.py): started\n",
      "  Building wheel for miniKanren (setup.py): finished with status 'done'\n",
      "  Created wheel for miniKanren: filename=miniKanren-1.0.3-py3-none-any.whl size=23948 sha256=57f35237b4ce6bf259a2f86a8f2976a422a723896944ca2ee4debe1f62faebb0\n",
      "  Stored in directory: c:\\users\\hq8312\\appdata\\local\\pip\\cache\\wheels\\57\\48\\e3\\441a42666f9a4ac9ccb6897d6046d81cf970c986be39938c6e\n",
      "Successfully built cons logical-unification etuples miniKanren\n",
      "Installing collected packages: graphviz, filelock, logical-unification, h5netcdf, formulae, cons, xarray-einstats, etuples, miniKanren, arviz, pytensor, pymc, bambi\n",
      "Successfully installed arviz-0.21.0 bambi-0.15.0 cons-0.4.6 etuples-0.3.9 filelock-3.18.0 formulae-0.5.4 graphviz-0.20.3 h5netcdf-1.6.1 logical-unification-0.4.6 miniKanren-1.0.3 pymc-5.22.0 pytensor-2.30.3 xarray-einstats-0.8.0\n"
     ]
    },
    {
     "name": "stderr",
     "output_type": "stream",
     "text": [
      "  WARNING: The script pytensor-cache.exe is installed in 'C:\\Users\\hq8312\\AppData\\Roaming\\Python\\Python312\\Scripts' which is not on PATH.\n",
      "  Consider adding this directory to PATH or, if you prefer to suppress this warning, use --no-warn-script-location.\n"
     ]
    }
   ],
   "source": [
    "!pip install bambi"
   ]
  },
  {
   "cell_type": "code",
   "execution_count": 1,
   "id": "8e6dec68-9ce9-4014-8261-08124da1dd9b",
   "metadata": {},
   "outputs": [
    {
     "name": "stderr",
     "output_type": "stream",
     "text": [
      "WARNING (pytensor.configdefaults): g++ not available, if using conda: `conda install gxx`\n",
      "WARNING (pytensor.configdefaults): g++ not detected!  PyTensor will be unable to compile C-implementations and will default to Python. Performance may be severely degraded. To remove this warning, set PyTensor flags cxx to an empty string.\n",
      "Modeling the probability that crash==1\n",
      "Initializing NUTS using jitter+adapt_diag...\n",
      "Multiprocess sampling (4 chains in 4 jobs)\n",
      "NUTS: [Intercept, campaign]\n"
     ]
    },
    {
     "data": {
      "application/vnd.jupyter.widget-view+json": {
       "model_id": "b76b153509a5412e90a8fe31abe1d1ff",
       "version_major": 2,
       "version_minor": 0
      },
      "text/plain": [
       "Output()"
      ]
     },
     "metadata": {},
     "output_type": "display_data"
    },
    {
     "data": {
      "text/html": [
       "<pre style=\"white-space:pre;overflow-x:auto;line-height:normal;font-family:Menlo,'DejaVu Sans Mono',consolas,'Courier New',monospace\"></pre>\n"
      ],
      "text/plain": []
     },
     "metadata": {},
     "output_type": "display_data"
    },
    {
     "data": {
      "text/html": [
       "<pre style=\"white-space:pre;overflow-x:auto;line-height:normal;font-family:Menlo,'DejaVu Sans Mono',consolas,'Courier New',monospace\">\n",
       "</pre>\n"
      ],
      "text/plain": [
       "\n"
      ]
     },
     "metadata": {},
     "output_type": "display_data"
    },
    {
     "name": "stderr",
     "output_type": "stream",
     "text": [
      "Sampling 4 chains for 500 tune and 1_000 draw iterations (2_000 + 4_000 draws total) took 145 seconds.\n",
      "Modeling the probability that crash==1\n",
      "Initializing NUTS using jitter+adapt_diag...\n",
      "Multiprocess sampling (4 chains in 4 jobs)\n",
      "NUTS: [Intercept, campaign]\n"
     ]
    },
    {
     "data": {
      "application/vnd.jupyter.widget-view+json": {
       "model_id": "f6c2c6b803e544f7a4ffdcaa2b2fba41",
       "version_major": 2,
       "version_minor": 0
      },
      "text/plain": [
       "Output()"
      ]
     },
     "metadata": {},
     "output_type": "display_data"
    },
    {
     "data": {
      "text/html": [
       "<pre style=\"white-space:pre;overflow-x:auto;line-height:normal;font-family:Menlo,'DejaVu Sans Mono',consolas,'Courier New',monospace\"></pre>\n"
      ],
      "text/plain": []
     },
     "metadata": {},
     "output_type": "display_data"
    },
    {
     "data": {
      "text/html": [
       "<pre style=\"white-space:pre;overflow-x:auto;line-height:normal;font-family:Menlo,'DejaVu Sans Mono',consolas,'Courier New',monospace\">\n",
       "</pre>\n"
      ],
      "text/plain": [
       "\n"
      ]
     },
     "metadata": {},
     "output_type": "display_data"
    },
    {
     "name": "stderr",
     "output_type": "stream",
     "text": [
      "Sampling 4 chains for 500 tune and 1_000 draw iterations (2_000 + 4_000 draws total) took 141 seconds.\n"
     ]
    },
    {
     "data": {
      "image/png": "[encoded data removed]",
      "text/plain": [
       "<Figure size 600x520 with 1 Axes>"
      ]
     },
     "metadata": {},
     "output_type": "display_data"
    }
   ],
   "source": [
    "import numpy as np, pandas as pd, bambi as bmb, arviz as az, matplotlib.pyplot as plt\n",
    "\n",
    "# Simulate 200 road segments, half with campaign\n",
    "np.random.seed(123)\n",
    "N = 200\n",
    "campaign = np.random.binomial(1, 0.5, size=N)\n",
    "\n",
    "# True data-generating process: intercept = –1, effect = –1\n",
    "log_odds = -1 + (-1)*campaign\n",
    "p = 1/(1 + np.exp(-log_odds))\n",
    "crash = np.random.binomial(1, p)\n",
    "\n",
    "data = pd.DataFrame({\"crash\": crash, \"campaign\": campaign})\n",
    "\n",
    "# Model A: default (very wide) priors\n",
    "m1 = bmb.Model(\"crash ~ campaign\", data, family=\"bernoulli\")\n",
    "res1 = m1.fit(draws=1000, tune=500)\n",
    "\n",
    "# Model B: our weakly informative prior Normal(0,1)\n",
    "m2 = bmb.Model(\"crash ~ campaign\", data, family=\"bernoulli\")\n",
    "m2.set_priors({\"campaign\": bmb.Prior(\"Normal\", mu=0, sigma=1)})\n",
    "res2 = m2.fit(draws=1000, tune=500)\n",
    "\n",
    "# Forest plot comparison\n",
    "az.plot_forest([res1, res2],\n",
    "               model_names=[\"Wide prior\", \"Weakly informative prior\"],\n",
    "               var_names=[\"campaign\"], combined=True)\n",
    "plt.title(\"Posterior of Campaign Coefficient\")\n",
    "plt.xlabel(\"Log-odds scale\")\n",
    "plt.grid(True)\n",
    "plt.show()\n"
   ]
  }
 ],
 "metadata": {
  "kernelspec": {
   "display_name": "Python [conda env:base] *",
   "language": "python",
   "name": "conda-base-py"
  },
  "language_info": {
   "codemirror_mode": {
    "name": "ipython",
    "version": 3
   },
   "file_extension": ".py",
   "mimetype": "text/x-python",
   "name": "python",
   "nbconvert_exporter": "python",
   "pygments_lexer": "ipython3",
   "version": "3.12.7"
  }
 },
 "nbformat": 4,
 "nbformat_minor": 5
}
